{
 "cells": [
  {
   "cell_type": "code",
   "execution_count": 3,
   "metadata": {},
   "outputs": [
    {
     "name": "stdout",
     "output_type": "stream",
     "text": [
      "Joana não foi encontrado(a) na lista.\n"
     ]
    }
   ],
   "source": [
    "import pandas as pd\n",
    "tabela = pd.read_csv(\"arquivodever03.csv\", sep = \";\")\n",
    "\n",
    "lista_dados = tabela.to_dict(orient=\"records\")\n",
    "\n",
    "nome_digitado = input(\"Digite um nome: \")\n",
    "\n",
    "nome_encontrado = False\n",
    "idade_pessoa = 0\n",
    "\n",
    "idade = [int(pessoa[\"idade\"]) for pessoa in lista_dados]\n",
    "maior_idade = max(idade)\n",
    "\n",
    "for pessoa in lista_dados:\n",
    "    if pessoa[\"nome\"].lower() == nome_digitado.lower():\n",
    "        nome_encontrado = True\n",
    "        idade_pessoa = int(pessoa[\"idade\"])\n",
    "        print(f\"{nome_digitado} tem {idade_pessoa} anos.\")\n",
    "        \n",
    "        if idade_pessoa == maior_idade:\n",
    "            print(f\"{nome_digitado} é a pessoa mais velha da lista.\")\n",
    "        else:\n",
    "            print(f\"{nome_digitado} não é a pessoa mais velha da lista.\")\n",
    "        break\n",
    "\n",
    "if not nome_encontrado:\n",
    "    print(f\"{nome_digitado} não foi encontrado(a) na lista.\")"
   ]
  }
 ],
 "metadata": {
  "kernelspec": {
   "display_name": "Python 3",
   "language": "python",
   "name": "python3"
  },
  "language_info": {
   "codemirror_mode": {
    "name": "ipython",
    "version": 3
   },
   "file_extension": ".py",
   "mimetype": "text/x-python",
   "name": "python",
   "nbconvert_exporter": "python",
   "pygments_lexer": "ipython3",
   "version": "3.13.2"
  }
 },
 "nbformat": 4,
 "nbformat_minor": 2
}
