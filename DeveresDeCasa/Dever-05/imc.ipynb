{
 "cells": [
  {
   "cell_type": "code",
   "execution_count": null,
   "metadata": {},
   "outputs": [
    {
     "name": "stdout",
     "output_type": "stream",
     "text": [
      "IMC 18.0 é considerado obeso? False\n"
     ]
    }
   ],
   "source": [
    "import pandas as pd\n",
    "import numpy as np\n",
    "from sklearn.model_selection import train_test_split\n",
    "from sklearn.linear_model import LogisticRegression\n",
    "\n",
    "import pandas as pd\n",
    "df = pd.read_csv(\"imc_obesidade.csv\")\n",
    "\n",
    "X = df[[\"IMC\"]]\n",
    "y = df[\"Obeso\"]\n",
    "\n",
    "X_train, X_test, y_train, y_test = train_test_split(X, y, test_size=0.2, random_state=42)\n",
    "\n",
    "model = LogisticRegression()\n",
    "model.fit(X_train, y_train)\n",
    "\n",
    "imc_digitado = float(input(\"Digite o IMC: \"))\n",
    "\n",
    "imc_digitado = pd.DataFrame([[imc_digitado]], columns=[\"IMC\"])\n",
    "\n",
    "predicao = model.predict(imc_digitado)[0]\n",
    "\n",
    "print(f\"IMC {imc_digitado.iloc[0, 0]} é considerado obeso? {predicao}\")\n"
   ]
  }
 ],
 "metadata": {
  "kernelspec": {
   "display_name": "Python 3",
   "language": "python",
   "name": "python3"
  },
  "language_info": {
   "codemirror_mode": {
    "name": "ipython",
    "version": 3
   },
   "file_extension": ".py",
   "mimetype": "text/x-python",
   "name": "python",
   "nbconvert_exporter": "python",
   "pygments_lexer": "ipython3",
   "version": "3.13.2"
  }
 },
 "nbformat": 4,
 "nbformat_minor": 2
}
