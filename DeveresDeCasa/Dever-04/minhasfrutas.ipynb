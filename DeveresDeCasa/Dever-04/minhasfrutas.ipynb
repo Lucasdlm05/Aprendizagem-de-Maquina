{
 "cells": [
  {
   "cell_type": "code",
   "execution_count": 10,
   "metadata": {},
   "outputs": [
    {
     "name": "stdout",
     "output_type": "stream",
     "text": [
      "     Fruta  Quantidade\n",
      "0   banana          69\n",
      "1  laranja          69\n",
      "2    mamão          72\n",
      "3     maçã          99\n",
      "4    melão          50\n",
      "5      uva          67\n"
     ]
    }
   ],
   "source": [
    "import random\n",
    "import pandas as pd\n",
    "\n",
    "frutas_lista = [\"maçã\", \"banana\", \"laranja\", \"uva\", \"maçã\", \"melão\", \"mamão\", \"banana\"]\n",
    "\n",
    "quantidades = {fruta: 0 for fruta in frutas_lista}\n",
    "\n",
    "with open(\"minhas_frutas.txt\", \"w\", encoding=\"utf-8\") as arquivo:\n",
    "    for fruta in frutas_lista:\n",
    "        max_valor = 100 - quantidades[fruta]  \n",
    "        if max_valor > 0:\n",
    "            quantidade = random.randint(0, max_valor)\n",
    "            quantidades[fruta] += quantidade\n",
    "            arquivo.write(f\"{fruta},{quantidade}\\n\")\n",
    "\n",
    "dados = []\n",
    "with open(\"minhas_frutas.txt\", \"r\", encoding=\"utf-8\") as arquivo:\n",
    "    for linha in arquivo:\n",
    "        fruta, quantidade = linha.strip().split(\",\")\n",
    "        dados.append((fruta, int(quantidade)))\n",
    "\n",
    "df = pd.DataFrame(dados, columns=[\"Fruta\", \"Quantidade\"])\n",
    "\n",
    "df_agrupado = df.groupby(\"Fruta\", as_index=False).sum()\n",
    "\n",
    "print(df_agrupado)\n"
   ]
  }
 ],
 "metadata": {
  "kernelspec": {
   "display_name": "Python 3",
   "language": "python",
   "name": "python3"
  },
  "language_info": {
   "codemirror_mode": {
    "name": "ipython",
    "version": 3
   },
   "file_extension": ".py",
   "mimetype": "text/x-python",
   "name": "python",
   "nbconvert_exporter": "python",
   "pygments_lexer": "ipython3",
   "version": "3.13.2"
  }
 },
 "nbformat": 4,
 "nbformat_minor": 2
}
