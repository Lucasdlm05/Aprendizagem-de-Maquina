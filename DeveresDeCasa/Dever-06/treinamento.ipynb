{
 "cells": [
  {
   "cell_type": "code",
   "execution_count": 8,
   "id": "fe774f4e",
   "metadata": {},
   "outputs": [
    {
     "name": "stdout",
     "output_type": "stream",
     "text": [
      "Digite as características da flor:\n",
      "A flor é: virginica\n"
     ]
    }
   ],
   "source": [
    "from sklearn.datasets import load_iris\n",
    "from sklearn.neighbors import KNeighborsClassifier\n",
    "\n",
    "iris = load_iris()\n",
    "\n",
    "X = iris.data\n",
    "y = iris.target\n",
    "nomes_especies = iris.target_names\n",
    "\n",
    "modelo = KNeighborsClassifier(n_neighbors=3)\n",
    "modelo.fit(X, y)\n",
    "\n",
    "print(\"Digite as características da flor:\")\n",
    "sepal_length = float(input(\"Comprimento da sépala (cm): \"))\n",
    "sepal_width = float(input(\"Largura da sépala (cm): \"))\n",
    "petal_length = float(input(\"Comprimento da pétala (cm): \"))\n",
    "petal_width = float(input(\"Largura da pétala (cm): \"))\n",
    "\n",
    "entrada = [[sepal_length, sepal_width, petal_length, petal_width]]\n",
    "predicao = modelo.predict(entrada)\n",
    "\n",
    "print(f\"A flor é: {nomes_especies[predicao[0]]}\")\n"
   ]
  }
 ],
 "metadata": {
  "kernelspec": {
   "display_name": "Python 3",
   "language": "python",
   "name": "python3"
  },
  "language_info": {
   "codemirror_mode": {
    "name": "ipython",
    "version": 3
   },
   "file_extension": ".py",
   "mimetype": "text/x-python",
   "name": "python",
   "nbconvert_exporter": "python",
   "pygments_lexer": "ipython3",
   "version": "3.13.2"
  }
 },
 "nbformat": 4,
 "nbformat_minor": 5
}
