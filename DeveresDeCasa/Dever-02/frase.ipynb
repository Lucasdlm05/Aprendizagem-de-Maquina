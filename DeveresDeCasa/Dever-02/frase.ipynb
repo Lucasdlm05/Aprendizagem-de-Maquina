{
 "cells": [
  {
   "cell_type": "code",
   "execution_count": 55,
   "metadata": {},
   "outputs": [
    {
     "name": "stdout",
     "output_type": "stream",
     "text": [
      "Você digitou:jogar bola é bacana\n"
     ]
    }
   ],
   "source": [
    "frase = input(\"Digite uma frase: \")\n",
    "\n",
    "if not frase:\n",
    "    print(\"Erro: A entrada não pode estar vazia.\")\n",
    "else:\n",
    "    print(f\"Você digitou:{frase}\")"
   ]
  },
  {
   "cell_type": "code",
   "execution_count": 56,
   "metadata": {},
   "outputs": [
    {
     "name": "stdout",
     "output_type": "stream",
     "text": [
      "Total de caracteres:19\n"
     ]
    }
   ],
   "source": [
    "num_caracteres = len(frase)\n",
    "print(f'Total de caracteres:{num_caracteres}')"
   ]
  },
  {
   "cell_type": "code",
   "execution_count": 57,
   "metadata": {},
   "outputs": [
    {
     "name": "stdout",
     "output_type": "stream",
     "text": [
      "['jogar', 'bola', 'é', 'bacana']\n",
      "Total de palavras:4\n",
      "Maior palavra: bacana\n"
     ]
    }
   ],
   "source": [
    "palavras = frase.split()\n",
    "print(palavras)\n",
    "\n",
    "num_palavras = len(palavras)\n",
    "print(f'Total de palavras:{num_palavras}')\n",
    "\n",
    "maior_palavra = max(palavras, key=len)\n",
    "print(f'Maior palavra: {maior_palavra}')"
   ]
  },
  {
   "cell_type": "code",
   "execution_count": 58,
   "metadata": {},
   "outputs": [
    {
     "name": "stdout",
     "output_type": "stream",
     "text": [
      "anacab é alob ragoj\n",
      "Frase invertida: bacana é bola jogar\n",
      "Letras maiúsculas:JOGAR BOLA É BACANA\n",
      "Letras minúsculas: jogar bola é bacana\n"
     ]
    }
   ],
   "source": [
    "inverter_frase = frase\n",
    "print(inverter_frase[::-1]) #Inverter a frase\n",
    "\n",
    "palavras = frase.split()  # Divide a frase em palavras\n",
    "palavras_invertidas = palavras[::-1]  # Inverte a ordem das palavras\n",
    "frase_invertida = ' '.join(palavras_invertidas)  # Reconstroi a frase\n",
    "print(f'Frase invertida: {frase_invertida}')\n",
    "\n",
    "frase_maiuscula = frase.upper()\n",
    "print(f'Letras maiúsculas:{frase_maiuscula}')\n",
    "\n",
    "frase_minuscula = frase.lower()\n",
    "print(f'Letras minúsculas: {frase_minuscula}')\n",
    "\n",
    "\n",
    "\n"
   ]
  },
  {
   "cell_type": "code",
   "execution_count": 59,
   "metadata": {},
   "outputs": [
    {
     "name": "stdout",
     "output_type": "stream",
     "text": [
      "('jogar', 'bola', 'é', 'bacana')\n"
     ]
    }
   ],
   "source": [
    "minha_tupla = tuple(frase.split())\n",
    "print(minha_tupla)"
   ]
  },
  {
   "cell_type": "code",
   "execution_count": 60,
   "metadata": {},
   "outputs": [
    {
     "name": "stdout",
     "output_type": "stream",
     "text": [
      "Número de caracteres da frase: 19\n",
      "Número de palavras: 4\n",
      "Palavra com maior comprimento: bacana\n",
      "Frase invertida por palavras: bacana é bola jogar\n",
      "Frase invertida por caracteres: anacab é alob ragoj\n",
      "Frase em maiúsculas: JOGAR BOLA É BACANA\n",
      "Frase em minúsculas: jogar bola é bacana\n",
      "Tupla com as palavras da frase: ('jogar', 'bola', 'é', 'bacana')\n"
     ]
    }
   ],
   "source": [
    "num_caracteres = len(frase)\n",
    "print(f'Número de caracteres da frase: {num_caracteres}')\n",
    "\n",
    "palavras = frase.split()\n",
    "num_palavras = len(palavras)\n",
    "print(f'Número de palavras: {num_palavras}')\n",
    "\n",
    "maior_palavra = max(palavras, key=len)\n",
    "print(f'Palavra com maior comprimento: {maior_palavra}')\n",
    "\n",
    "frase_invertida_palavras = ' '.join(palavras[::-1])\n",
    "print(f'Frase invertida por palavras: {frase_invertida_palavras}')\n",
    "\n",
    "frase_invertida_caracteres = frase[::-1]\n",
    "print(f'Frase invertida por caracteres: {frase_invertida_caracteres}')\n",
    "\n",
    "frase_maiuscula = frase.upper()\n",
    "print(f'Frase em maiúsculas: {frase_maiuscula}')\n",
    "\n",
    "frase_minuscula = frase.lower()\n",
    "print(f'Frase em minúsculas: {frase_minuscula}')\n",
    "\n",
    "tupla_palavras = tuple(palavras)\n",
    "print(f'Tupla com as palavras da frase: {tupla_palavras}')\n"
   ]
  }
 ],
 "metadata": {
  "kernelspec": {
   "display_name": "Python 3",
   "language": "python",
   "name": "python3"
  },
  "language_info": {
   "codemirror_mode": {
    "name": "ipython",
    "version": 3
   },
   "file_extension": ".py",
   "mimetype": "text/x-python",
   "name": "python",
   "nbconvert_exporter": "python",
   "pygments_lexer": "ipython3",
   "version": "3.13.2"
  }
 },
 "nbformat": 4,
 "nbformat_minor": 2
}
